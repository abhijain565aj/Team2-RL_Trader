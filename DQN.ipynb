{
 "cells": [
  {
   "cell_type": "code",
   "execution_count": 1,
   "metadata": {},
   "outputs": [],
   "source": [
    "import torch\n",
    "import torch.nn as nn\n",
    "import torch.optim as optim\n",
    "import random\n",
    "from collections import deque\n",
    "import pandas as pd\n",
    "from StockTradingRLEnv_Abhi import StockTradingEnv\n",
    "import matplotlib.pyplot as plt\n"
   ]
  },
  {
   "cell_type": "code",
   "execution_count": 2,
   "metadata": {},
   "outputs": [],
   "source": [
    "class DQN(nn.Module):\n",
    "    def __init__(self, input_dim, output_dim):\n",
    "        super(DQN, self).__init__()\n",
    "        self.fc1 = nn.Linear(input_dim, 64)\n",
    "        self.fc2 = nn.Linear(64, 32)\n",
    "        self.fc3 = nn.Linear(32, 8)\n",
    "        self.fc4 = nn.Linear(8, output_dim)\n",
    "        \n",
    "    def forward(self, x):\n",
    "        x = torch.relu(self.fc1(x))\n",
    "        x = torch.relu(self.fc2(x))\n",
    "        x = torch.relu(self.fc3(x))\n",
    "        x = self.fc4(x)\n",
    "        return x"
   ]
  },
  {
   "cell_type": "code",
   "execution_count": 3,
   "metadata": {},
   "outputs": [],
   "source": [
    "class Agent:\n",
    "    def __init__(self, state_dim, is_eval=False, model_name=\"\"):\n",
    "        self.state_dim = state_dim\n",
    "        self.action_dim = 2  # 0: Buy, 1: Sell (we're keeping it simple)\n",
    "        self.memory = deque(maxlen=1000)\n",
    "        self.batch_size = 32\n",
    "        self.gamma = 0.95\n",
    "        self.epsilon = 1.0  # initial exploration rate\n",
    "        self.epsilon_min = 0.01  # minimum exploration rate\n",
    "        self.epsilon_decay = 0.995\n",
    "        self.is_eval = is_eval\n",
    "        \n",
    "        self.model = DQN(state_dim, self.action_dim)\n",
    "        self.target_model = DQN(state_dim, self.action_dim)\n",
    "        self.optimizer = optim.Adam(self.model.parameters(), lr=0.001)\n",
    "        self.loss_fn = nn.MSELoss()\n",
    "        \n",
    "        if self.is_eval:\n",
    "            self.model.load_state_dict(torch.load(f'saved_models/{model_name}'))\n",
    "        \n",
    "        self.update_target_model()\n",
    "        \n",
    "    def update_target_model(self):\n",
    "        self.target_model.load_state_dict(self.model.state_dict())\n",
    "\n",
    "    def remember(self, state, action, reward, next_state, done):\n",
    "        self.memory.append((state, action, reward, next_state, done))\n",
    "        \n",
    "    def act(self, state):\n",
    "        if not self.is_eval and random.random() <= self.epsilon:\n",
    "            action_type = random.randrange(self.action_dim)  # 0 for buy, 1 for sell\n",
    "            amount = random.random()  # percentage to buy/sell\n",
    "            return [action_type, amount]\n",
    "        state = torch.FloatTensor(state).unsqueeze(0)\n",
    "        q_values = self.model(state)\n",
    "        action_type = torch.argmax(q_values[0]).item()\n",
    "        amount = random.random()  # percentage to buy/sell\n",
    "        return [action_type, amount]\n",
    "        \n",
    "    def replay(self):\n",
    "        if len(self.memory) < self.batch_size:\n",
    "            return\n",
    "        minibatch = random.sample(self.memory, self.batch_size)\n",
    "        for state, action, reward, next_state, done in minibatch:\n",
    "            state = torch.FloatTensor(state).unsqueeze(0)\n",
    "            next_state = torch.FloatTensor(next_state).unsqueeze(0)\n",
    "            target = self.model(state)[0]\n",
    "            if done:\n",
    "                target[action[0]] = reward\n",
    "            else:\n",
    "                t = self.target_model(next_state)[0]\n",
    "                target[action[0]] = reward + self.gamma * torch.max(t).item()\n",
    "            target = target.unsqueeze(0)\n",
    "            output = self.model(state)\n",
    "            loss = self.loss_fn(output, target)\n",
    "            self.optimizer.zero_grad()\n",
    "            loss.backward()\n",
    "            self.optimizer.step()\n",
    "        if self.epsilon > self.epsilon_min:\n",
    "            self.epsilon *= self.epsilon_decay\n",
    "\n",
    "    def load(self, name):\n",
    "        self.model.load_state_dict(torch.load(name))\n",
    "        \n",
    "    def save(self, name):\n",
    "        torch.save(self.model.state_dict(), f'saved_models/{name}_target.pth')"
   ]
  },
  {
   "cell_type": "code",
   "execution_count": 4,
   "metadata": {},
   "outputs": [],
   "source": [
    "MAX_ACCOUNT_BALANCE = 2147483647\n",
    "MAX_NUM_SHARES = 2147483647\n",
    "MAX_SHARE_PRICE = 5000\n",
    "MAX_STEPS = 2000\n",
    "\n",
    "# INITIAL_ACCOUNT_BALANCE = 10000"
   ]
  },
  {
   "cell_type": "code",
   "execution_count": 5,
   "metadata": {},
   "outputs": [],
   "source": [
    "df = pd.read_csv('./data/AAPL.csv')\n",
    "df = df.sort_values('Date')\n",
    "df.dropna(inplace=True)\n",
    "df = df.reset_index(drop=True)\n",
    "\n",
    "env = StockTradingEnv(df, render_mode='human')\n",
    "state_dim = env.observation_space.shape[1] * env.observation_space.shape[0]\n",
    "agent = Agent(state_dim=state_dim)\n",
    "\n",
    "episodes = 50\n"
   ]
  },
  {
   "cell_type": "code",
   "execution_count": null,
   "metadata": {},
   "outputs": [],
   "source": [
    "net_worths = []\n",
    "\n",
    "for e in range(episodes):\n",
    "    state, _ = env.reset()\n",
    "    state = state.flatten()  # Flatten the state to match the input dimensions of the network\n",
    "    done = False\n",
    "    for time in range(MAX_STEPS):\n",
    "        if(time % 100 == 0):\n",
    "            print(f\"Time: {time} episode: {e+1}/{episodes} score: {env.net_worth}\")\n",
    "        action = agent.act(state)\n",
    "        next_state, reward, done, truncated, _ = env.step(action)\n",
    "        next_state = next_state.flatten()  # Flatten the next state\n",
    "        agent.remember(state, action, reward, next_state, done)\n",
    "        state = next_state\n",
    "        if done:\n",
    "            agent.update_target_model()\n",
    "            print(f'Episode {e+1}/{episodes} - Net Worth: {env.net_worth}')\n",
    "            break\n",
    "        agent.replay()\n",
    "    net_worths.append(env.net_worth)\n",
    "    if (e + 1) % 10 == 0:\n",
    "        agent.save(f\"model_dqn_{e+1}.pth\")\n",
    "    print(f'Episode {e+1}/{episodes} - Net Worth: {env.net_worth}')"
   ]
  },
  {
   "cell_type": "code",
   "execution_count": null,
   "metadata": {},
   "outputs": [],
   "source": [
    "print(net_worths)\n",
    "# Plotting the net worth over episodes\n",
    "plt.plot(range(episodes), net_worths)\n",
    "plt.xlabel('Episodes')\n",
    "plt.ylabel('Net Worth')\n",
    "plt.title('Net Worth over Episodes')\n",
    "plt.show()\n"
   ]
  },
  {
   "cell_type": "code",
   "execution_count": 6,
   "metadata": {},
   "outputs": [
    {
     "name": "stdout",
     "output_type": "stream",
     "text": [
      "hello\n",
      "10000.0 0 119.89080978446115\n"
     ]
    },
    {
     "ename": "NameError",
     "evalue": "name 'truncated' is not defined",
     "output_type": "error",
     "traceback": [
      "\u001b[1;31m---------------------------------------------------------------------------\u001b[0m",
      "\u001b[1;31mNameError\u001b[0m                                 Traceback (most recent call last)",
      "Cell \u001b[1;32mIn[6], line 18\u001b[0m\n\u001b[0;32m     15\u001b[0m         \u001b[38;5;28mprint\u001b[39m(\u001b[38;5;124mf\u001b[39m\u001b[38;5;124m\"\u001b[39m\u001b[38;5;124mepisode: \u001b[39m\u001b[38;5;132;01m{\u001b[39;00me\u001b[38;5;241m+\u001b[39m\u001b[38;5;241m1\u001b[39m\u001b[38;5;132;01m}\u001b[39;00m\u001b[38;5;124m/\u001b[39m\u001b[38;5;132;01m{\u001b[39;00mepisodes\u001b[38;5;132;01m}\u001b[39;00m\u001b[38;5;124m score: \u001b[39m\u001b[38;5;132;01m{\u001b[39;00menv\u001b[38;5;241m.\u001b[39mnet_worth\u001b[38;5;132;01m}\u001b[39;00m\u001b[38;5;124m\"\u001b[39m)\n\u001b[0;32m     17\u001b[0m \u001b[38;5;66;03m# Evaluate the agent\u001b[39;00m\n\u001b[1;32m---> 18\u001b[0m \u001b[43mevaluate\u001b[49m\u001b[43m(\u001b[49m\u001b[43menv\u001b[49m\u001b[43m,\u001b[49m\u001b[43m \u001b[49m\u001b[43magent\u001b[49m\u001b[43m)\u001b[49m\n",
      "Cell \u001b[1;32mIn[6], line 10\u001b[0m, in \u001b[0;36mevaluate\u001b[1;34m(env, agent, episodes)\u001b[0m\n\u001b[0;32m      8\u001b[0m \u001b[38;5;28;01mfor\u001b[39;00m time \u001b[38;5;129;01min\u001b[39;00m \u001b[38;5;28mrange\u001b[39m(MAX_STEPS):\n\u001b[0;32m      9\u001b[0m     action \u001b[38;5;241m=\u001b[39m agent\u001b[38;5;241m.\u001b[39mact(state)\n\u001b[1;32m---> 10\u001b[0m     next_state, reward, done, truncated, _ \u001b[38;5;241m=\u001b[39m \u001b[43menv\u001b[49m\u001b[38;5;241;43m.\u001b[39;49m\u001b[43mstep\u001b[49m\u001b[43m(\u001b[49m\u001b[43maction\u001b[49m\u001b[43m)\u001b[49m\n\u001b[0;32m     11\u001b[0m     \u001b[38;5;28mprint\u001b[39m(truncated)\n\u001b[0;32m     12\u001b[0m     next_state \u001b[38;5;241m=\u001b[39m next_state\u001b[38;5;241m.\u001b[39mflatten()\n",
      "File \u001b[1;32md:\\SoC\\Team2-RL_Trader\\Submission-1 Team-2\\StockTradingRLEnv_Abhi.py:113\u001b[0m, in \u001b[0;36mStockTradingEnv.step\u001b[1;34m(self, action)\u001b[0m\n\u001b[0;32m    109\u001b[0m tuncated \u001b[38;5;241m=\u001b[39m \u001b[38;5;124m\"\u001b[39m\u001b[38;5;124mhello ji\u001b[39m\u001b[38;5;124m\"\u001b[39m\n\u001b[0;32m    111\u001b[0m obs \u001b[38;5;241m=\u001b[39m \u001b[38;5;28mself\u001b[39m\u001b[38;5;241m.\u001b[39m_next_observation()\n\u001b[1;32m--> 113\u001b[0m \u001b[38;5;28;01mreturn\u001b[39;00m obs, reward, done, \u001b[43mtruncated\u001b[49m, {}\n",
      "\u001b[1;31mNameError\u001b[0m: name 'truncated' is not defined"
     ]
    }
   ],
   "source": [
    "# Evaluation\n",
    "agent = Agent(state_dim=state_dim,is_eval=True, model_name=\"model_dqn_50.pth\")\n",
    "def evaluate(env, agent, episodes=10):\n",
    "    total_rewards = 0\n",
    "    for _ in range(episodes):\n",
    "        state, _ = env.reset()\n",
    "        state = state.flatten()\n",
    "        for time in range(MAX_STEPS):\n",
    "            action = agent.act(state)\n",
    "            next_state, reward, done, truncated, _ = env.step(action)\n",
    "            print(truncated)\n",
    "            next_state = next_state.flatten()\n",
    "            total_rewards += reward\n",
    "            state = next_state\n",
    "        print(f\"episode: {e+1}/{episodes} score: {env.net_worth}\")\n",
    "\n",
    "# Evaluate the agent\n",
    "evaluate(env, agent)"
   ]
  }
 ],
 "metadata": {
  "kernelspec": {
   "display_name": "Python 3",
   "language": "python",
   "name": "python3"
  },
  "language_info": {
   "codemirror_mode": {
    "name": "ipython",
    "version": 3
   },
   "file_extension": ".py",
   "mimetype": "text/x-python",
   "name": "python",
   "nbconvert_exporter": "python",
   "pygments_lexer": "ipython3",
   "version": "3.12.1"
  }
 },
 "nbformat": 4,
 "nbformat_minor": 2
}
