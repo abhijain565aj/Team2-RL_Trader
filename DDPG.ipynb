{
 "cells": [
  {
   "cell_type": "code",
   "execution_count": 1,
   "metadata": {},
   "outputs": [],
   "source": [
    "import numpy as np\n",
    "import torch\n",
    "import torch.nn as nn\n",
    "import torch.optim as optim\n",
    "import random\n",
    "from collections import deque\n",
    "import pandas as pd\n",
    "from StockTradingRLEnv_Abhi import StockTradingEnv\n",
    "import matplotlib.pyplot as plt\n"
   ]
  },
  {
   "cell_type": "code",
   "execution_count": 2,
   "metadata": {},
   "outputs": [],
   "source": [
    "class Actor(nn.Module):\n",
    "    def __init__(self, state_dim, action_dim):\n",
    "        super(Actor, self).__init__()\n",
    "        self.fc1 = nn.Linear(state_dim, 24)\n",
    "        self.fc2 = nn.Linear(24, 48)\n",
    "        self.fc3 = nn.Linear(48, 24)\n",
    "        self.fc4 = nn.Linear(24, action_dim)\n",
    "\n",
    "    def forward(self, x):\n",
    "        x = torch.relu(self.fc1(x))\n",
    "        x = torch.relu(self.fc2(x))\n",
    "        x = torch.relu(self.fc3(x))\n",
    "        x = torch.softmax(self.fc4(x),dim = -1)\n",
    "        return x"
   ]
  },
  {
   "cell_type": "code",
   "execution_count": 3,
   "metadata": {},
   "outputs": [],
   "source": [
    "class Critic(nn.Module):\n",
    "    def __init__(self, state_dim, action_dim):\n",
    "        super(Critic, self).__init__()\n",
    "        self.fc1 = nn.Linear(state_dim + action_dim, 24)\n",
    "        self.fc2 = nn.Linear(24, 48)\n",
    "        self.fc3 = nn.Linear(48, 24)\n",
    "        self.fc4 = nn.Linear(24, 1)\n",
    "\n",
    "    def forward(self, x, u):\n",
    "        x = torch.cat([x, u], 1)\n",
    "        x = torch.relu(self.fc1(x))\n",
    "        x = torch.relu(self.fc2(x))\n",
    "        x = torch.relu(self.fc3(x))\n",
    "        x = self.fc4(x)\n",
    "        return x"
   ]
  },
  {
   "cell_type": "code",
   "execution_count": 4,
   "metadata": {},
   "outputs": [],
   "source": [
    "class OUNoise:\n",
    "    def __init__(self, action_dim, mu=0.0, theta=0.15, max_sigma=0.3, min_sigma=0.3, decay_period=100000):\n",
    "        self.mu = mu\n",
    "        self.theta = theta\n",
    "        self.sigma = max_sigma\n",
    "        self.max_sigma = max_sigma\n",
    "        self.min_sigma = min_sigma\n",
    "        self.decay_period = decay_period\n",
    "        self.action_dim = action_dim\n",
    "        self.reset()\n",
    "\n",
    "    def reset(self):\n",
    "        self.states = np.ones(self.action_dim) * self.mu\n",
    "\n",
    "    def evolve_state(self):\n",
    "        x = self.states\n",
    "        dx = self.theta * (self.mu - x) + self.sigma * np.random.randn(self.action_dim)\n",
    "        self.states = x + dx\n",
    "        return self.states\n",
    "\n",
    "    def get_actions(self, actions, t=0):\n",
    "        ou_state = self.evolve_state()\n",
    "        self.sigma = self.max_sigma - (self.max_sigma - self.min_sigma) * min(1.0, t / self.decay_period)\n",
    "        return np.clip(actions + ou_state, -1, 1)"
   ]
  },
  {
   "cell_type": "code",
   "execution_count": 5,
   "metadata": {},
   "outputs": [],
   "source": [
    "class DDPGAgent:\n",
    "    def __init__(self, state_dim):\n",
    "        self.action_dim = 3\n",
    "        self.actor = Actor(state_dim, self.action_dim)\n",
    "        self.actor_target = Actor(state_dim, self.action_dim)\n",
    "        self.actor_target.load_state_dict(self.actor.state_dict())\n",
    "        self.actor_optimizer = optim.Adam(self.actor.parameters(), lr=1e-4)\n",
    "\n",
    "        self.critic = Critic(state_dim, self.action_dim)\n",
    "        self.critic_target = Critic(state_dim, self.action_dim)\n",
    "        self.critic_target.load_state_dict(self.critic.state_dict())\n",
    "        self.critic_optimizer = optim.Adam(self.critic.parameters(), lr=1e-3)\n",
    "\n",
    "        self.memory = deque(maxlen=100000)\n",
    "        self.batch_size = 64\n",
    "        self.gamma = 0.99\n",
    "        self.tau = 0.005\n",
    "        self.noise = OUNoise(self.action_dim)\n",
    "\n",
    "    def act(self, state):\n",
    "        state = torch.FloatTensor(state).unsqueeze(0)\n",
    "        return self.actor(state).cpu().data.numpy().flatten()\n",
    "\n",
    "    def replay(self, num_iterations=1000):\n",
    "        for _ in range(num_iterations):\n",
    "            if len(self.memory) < self.batch_size:\n",
    "                continue\n",
    "\n",
    "            batch = random.sample(self.memory, self.batch_size)\n",
    "            state, action, reward, next_state, done = map(np.stack, zip(*batch))\n",
    "\n",
    "            state = torch.FloatTensor(state)\n",
    "            action = torch.FloatTensor(action)\n",
    "            reward = torch.FloatTensor(reward)\n",
    "            next_state = torch.FloatTensor(next_state)\n",
    "            done = torch.FloatTensor(done)\n",
    "\n",
    "            target_Q = self.critic_target(next_state, self.actor_target(next_state))\n",
    "            target_Q = reward + ((1 - done) * self.gamma * target_Q).detach()\n",
    "\n",
    "            current_Q = self.critic(state, action)\n",
    "            critic_loss = nn.MSELoss()(current_Q, target_Q)\n",
    "\n",
    "            self.critic_optimizer.zero_grad()\n",
    "            critic_loss.backward()\n",
    "            self.critic_optimizer.step()\n",
    "\n",
    "            actor_loss = -self.critic(state, self.actor(state)).mean()\n",
    "\n",
    "            self.actor_optimizer.zero_grad()\n",
    "            actor_loss.backward()\n",
    "            self.actor_optimizer.step()\n",
    "\n",
    "            for target_param, param in zip(self.critic_target.parameters(), self.critic.parameters()):\n",
    "                target_param.data.copy_(self.tau * param.data + (1 - self.tau) * target_param.data)\n",
    "\n",
    "            for target_param, param in zip(self.actor_target.parameters(), self.actor.parameters()):\n",
    "                target_param.data.copy_(self.tau * param.data + (1 - self.tau) * target_param.data)\n",
    "\n",
    "    def remember(self, state, action, reward, next_state, done):\n",
    "        self.memory.append((state, action, reward, next_state, done))\n",
    "\n",
    "    def save(self, filename):\n",
    "        torch.save(self.actor.state_dict(), filename + \"_actor.pth\")\n",
    "        torch.save(self.critic.state_dict(), filename + \"_critic.pth\")\n",
    "\n",
    "    def load(self, filename):\n",
    "        self.actor.load_state_dict(torch.load(filename + \"_actor.pth\"))\n",
    "        self.critic.load_state_dict(torch.load(filename + \"_critic.pth\"))\n"
   ]
  },
  {
   "cell_type": "code",
   "execution_count": 6,
   "metadata": {},
   "outputs": [],
   "source": [
    "MAX_ACCOUNT_BALANCE = 2147483647\n",
    "MAX_NUM_SHARES = 2147483647\n",
    "MAX_SHARE_PRICE = 5000\n",
    "MAX_STEPS = 2000\n",
    "\n",
    "INITIAL_ACCOUNT_BALANCE = 10000"
   ]
  },
  {
   "cell_type": "code",
   "execution_count": 7,
   "metadata": {},
   "outputs": [],
   "source": [
    "df = pd.read_csv('./data/AAPL.csv')\n",
    "df = df.sort_values('Date')\n",
    "df.dropna(inplace=True)\n",
    "df = df.reset_index(drop=True)\n",
    "\n",
    "env = StockTradingEnv(df, render_mode='human')\n",
    "state_dim = env.observation_space.shape[1] * env.observation_space.shape[0]\n",
    "agent = DDPGAgent(state_dim=state_dim)\n",
    "\n",
    "episodes = 50\n"
   ]
  },
  {
   "cell_type": "code",
   "execution_count": 8,
   "metadata": {},
   "outputs": [
    {
     "name": "stdout",
     "output_type": "stream",
     "text": [
      "Time: 0 episode: 1/50 score: 10000\n"
     ]
    },
    {
     "name": "stderr",
     "output_type": "stream",
     "text": [
      "c:\\Users\\abhij\\AppData\\Local\\Programs\\Python\\Python312\\Lib\\site-packages\\torch\\nn\\modules\\loss.py:535: UserWarning: Using a target size (torch.Size([64, 64])) that is different to the input size (torch.Size([64, 1])). This will likely lead to incorrect results due to broadcasting. Please ensure they have the same size.\n",
      "  return F.mse_loss(input, target, reduction=self.reduction)\n"
     ]
    },
    {
     "name": "stdout",
     "output_type": "stream",
     "text": [
      "Time: 100 episode: 1/50 score: 10204.748114135058\n",
      "Time: 200 episode: 1/50 score: 10573.735011525696\n",
      "Time: 300 episode: 1/50 score: 6490.43189186259\n",
      "Time: 400 episode: 1/50 score: 6408.98623043653\n",
      "Time: 500 episode: 1/50 score: 8597.953139594227\n",
      "Time: 600 episode: 1/50 score: 9267.223135485805\n",
      "Time: 700 episode: 1/50 score: 11951.762387604362\n",
      "Time: 800 episode: 1/50 score: 16021.32516158388\n",
      "Time: 900 episode: 1/50 score: 34671.16859816722\n",
      "Time: 1000 episode: 1/50 score: 16535.358013688514\n",
      "Time: 1100 episode: 1/50 score: 29278.423005907393\n",
      "Time: 1200 episode: 1/50 score: 29603.31776692879\n",
      "Time: 1300 episode: 1/50 score: 31782.017314274006\n",
      "Time: 1400 episode: 1/50 score: 36855.935357738796\n",
      "Time: 1500 episode: 1/50 score: 53306.72880442467\n",
      "Time: 1600 episode: 1/50 score: 73224.37601186309\n",
      "Time: 1700 episode: 1/50 score: 66814.62649385909\n",
      "Time: 1800 episode: 1/50 score: 70606.06224430718\n",
      "Time: 1900 episode: 1/50 score: 40005.168678548165\n",
      "Episode 1/50 - Net Worth: 59478.060136873544\n",
      "Time: 0 episode: 2/50 score: 10000\n"
     ]
    },
    {
     "name": "stderr",
     "output_type": "stream",
     "text": [
      "d:\\SoC\\Team2-RL_Trader\\Submission-1 Team-2\\StockTradingRLEnv_Abhi.py:76: RuntimeWarning: invalid value encountered in scalar divide\n",
      "  self.cost_basis = (prev_cost + additional_cost) / \\\n"
     ]
    },
    {
     "name": "stdout",
     "output_type": "stream",
     "text": [
      "Time: 100 episode: 2/50 score: 10000.0\n",
      "Time: 200 episode: 2/50 score: 10000.0\n",
      "Time: 300 episode: 2/50 score: 10000.0\n",
      "Time: 400 episode: 2/50 score: 10000.0\n",
      "Time: 500 episode: 2/50 score: 10000.0\n",
      "Time: 600 episode: 2/50 score: 10000.0\n",
      "Time: 700 episode: 2/50 score: 10000.0\n",
      "Time: 800 episode: 2/50 score: 10000.0\n",
      "Time: 900 episode: 2/50 score: 10000.0\n",
      "Time: 1000 episode: 2/50 score: 10000.0\n",
      "Time: 1100 episode: 2/50 score: 10000.0\n",
      "Time: 1200 episode: 2/50 score: 10000.0\n",
      "Time: 1300 episode: 2/50 score: 10000.0\n",
      "Time: 1400 episode: 2/50 score: 10000.0\n",
      "Time: 1500 episode: 2/50 score: 10000.0\n",
      "Time: 1600 episode: 2/50 score: 10000.0\n",
      "Time: 1700 episode: 2/50 score: 10000.0\n",
      "Time: 1800 episode: 2/50 score: 10000.0\n",
      "Time: 1900 episode: 2/50 score: 10000.0\n",
      "Episode 2/50 - Net Worth: 10000.0\n",
      "Time: 0 episode: 3/50 score: 10000\n",
      "Time: 100 episode: 3/50 score: 10000.0\n",
      "Time: 200 episode: 3/50 score: 10000.0\n",
      "Time: 300 episode: 3/50 score: 10000.0\n",
      "Time: 400 episode: 3/50 score: 10000.0\n",
      "Time: 500 episode: 3/50 score: 10000.0\n",
      "Time: 600 episode: 3/50 score: 10000.0\n",
      "Time: 700 episode: 3/50 score: 10000.0\n"
     ]
    },
    {
     "ename": "KeyboardInterrupt",
     "evalue": "",
     "output_type": "error",
     "traceback": [
      "\u001b[1;31m---------------------------------------------------------------------------\u001b[0m",
      "\u001b[1;31mKeyboardInterrupt\u001b[0m                         Traceback (most recent call last)",
      "Cell \u001b[1;32mIn[8], line 19\u001b[0m\n\u001b[0;32m     17\u001b[0m         \u001b[38;5;28mprint\u001b[39m(\u001b[38;5;124mf\u001b[39m\u001b[38;5;124m'\u001b[39m\u001b[38;5;124mEpisode \u001b[39m\u001b[38;5;132;01m{\u001b[39;00me\u001b[38;5;241m+\u001b[39m\u001b[38;5;241m1\u001b[39m\u001b[38;5;132;01m}\u001b[39;00m\u001b[38;5;124m/\u001b[39m\u001b[38;5;132;01m{\u001b[39;00mepisodes\u001b[38;5;132;01m}\u001b[39;00m\u001b[38;5;124m - Net Worth: \u001b[39m\u001b[38;5;132;01m{\u001b[39;00menv\u001b[38;5;241m.\u001b[39mnet_worth\u001b[38;5;132;01m}\u001b[39;00m\u001b[38;5;124m'\u001b[39m)\n\u001b[0;32m     18\u001b[0m         \u001b[38;5;28;01mbreak\u001b[39;00m\n\u001b[1;32m---> 19\u001b[0m     \u001b[43magent\u001b[49m\u001b[38;5;241;43m.\u001b[39;49m\u001b[43mreplay\u001b[49m\u001b[43m(\u001b[49m\u001b[43m)\u001b[49m\n\u001b[0;32m     20\u001b[0m net_worths\u001b[38;5;241m.\u001b[39mappend(env\u001b[38;5;241m.\u001b[39mnet_worth)\n\u001b[0;32m     21\u001b[0m \u001b[38;5;28;01mif\u001b[39;00m (e \u001b[38;5;241m+\u001b[39m \u001b[38;5;241m1\u001b[39m) \u001b[38;5;241m%\u001b[39m \u001b[38;5;241m10\u001b[39m \u001b[38;5;241m==\u001b[39m \u001b[38;5;241m0\u001b[39m:\n",
      "Cell \u001b[1;32mIn[5], line 51\u001b[0m, in \u001b[0;36mDDPGAgent.replay\u001b[1;34m(self, num_iterations)\u001b[0m\n\u001b[0;32m     48\u001b[0m actor_loss \u001b[38;5;241m=\u001b[39m \u001b[38;5;241m-\u001b[39m\u001b[38;5;28mself\u001b[39m\u001b[38;5;241m.\u001b[39mcritic(state, \u001b[38;5;28mself\u001b[39m\u001b[38;5;241m.\u001b[39mactor(state))\u001b[38;5;241m.\u001b[39mmean()\n\u001b[0;32m     50\u001b[0m \u001b[38;5;28mself\u001b[39m\u001b[38;5;241m.\u001b[39mactor_optimizer\u001b[38;5;241m.\u001b[39mzero_grad()\n\u001b[1;32m---> 51\u001b[0m \u001b[43mactor_loss\u001b[49m\u001b[38;5;241;43m.\u001b[39;49m\u001b[43mbackward\u001b[49m\u001b[43m(\u001b[49m\u001b[43m)\u001b[49m\n\u001b[0;32m     52\u001b[0m \u001b[38;5;28mself\u001b[39m\u001b[38;5;241m.\u001b[39mactor_optimizer\u001b[38;5;241m.\u001b[39mstep()\n\u001b[0;32m     54\u001b[0m \u001b[38;5;28;01mfor\u001b[39;00m target_param, param \u001b[38;5;129;01min\u001b[39;00m \u001b[38;5;28mzip\u001b[39m(\u001b[38;5;28mself\u001b[39m\u001b[38;5;241m.\u001b[39mcritic_target\u001b[38;5;241m.\u001b[39mparameters(), \u001b[38;5;28mself\u001b[39m\u001b[38;5;241m.\u001b[39mcritic\u001b[38;5;241m.\u001b[39mparameters()):\n",
      "File \u001b[1;32mc:\\Users\\abhij\\AppData\\Local\\Programs\\Python\\Python312\\Lib\\site-packages\\torch\\_tensor.py:525\u001b[0m, in \u001b[0;36mTensor.backward\u001b[1;34m(self, gradient, retain_graph, create_graph, inputs)\u001b[0m\n\u001b[0;32m    515\u001b[0m \u001b[38;5;28;01mif\u001b[39;00m has_torch_function_unary(\u001b[38;5;28mself\u001b[39m):\n\u001b[0;32m    516\u001b[0m     \u001b[38;5;28;01mreturn\u001b[39;00m handle_torch_function(\n\u001b[0;32m    517\u001b[0m         Tensor\u001b[38;5;241m.\u001b[39mbackward,\n\u001b[0;32m    518\u001b[0m         (\u001b[38;5;28mself\u001b[39m,),\n\u001b[1;32m   (...)\u001b[0m\n\u001b[0;32m    523\u001b[0m         inputs\u001b[38;5;241m=\u001b[39minputs,\n\u001b[0;32m    524\u001b[0m     )\n\u001b[1;32m--> 525\u001b[0m \u001b[43mtorch\u001b[49m\u001b[38;5;241;43m.\u001b[39;49m\u001b[43mautograd\u001b[49m\u001b[38;5;241;43m.\u001b[39;49m\u001b[43mbackward\u001b[49m\u001b[43m(\u001b[49m\n\u001b[0;32m    526\u001b[0m \u001b[43m    \u001b[49m\u001b[38;5;28;43mself\u001b[39;49m\u001b[43m,\u001b[49m\u001b[43m \u001b[49m\u001b[43mgradient\u001b[49m\u001b[43m,\u001b[49m\u001b[43m \u001b[49m\u001b[43mretain_graph\u001b[49m\u001b[43m,\u001b[49m\u001b[43m \u001b[49m\u001b[43mcreate_graph\u001b[49m\u001b[43m,\u001b[49m\u001b[43m \u001b[49m\u001b[43minputs\u001b[49m\u001b[38;5;241;43m=\u001b[39;49m\u001b[43minputs\u001b[49m\n\u001b[0;32m    527\u001b[0m \u001b[43m\u001b[49m\u001b[43m)\u001b[49m\n",
      "File \u001b[1;32mc:\\Users\\abhij\\AppData\\Local\\Programs\\Python\\Python312\\Lib\\site-packages\\torch\\autograd\\__init__.py:267\u001b[0m, in \u001b[0;36mbackward\u001b[1;34m(tensors, grad_tensors, retain_graph, create_graph, grad_variables, inputs)\u001b[0m\n\u001b[0;32m    262\u001b[0m     retain_graph \u001b[38;5;241m=\u001b[39m create_graph\n\u001b[0;32m    264\u001b[0m \u001b[38;5;66;03m# The reason we repeat the same comment below is that\u001b[39;00m\n\u001b[0;32m    265\u001b[0m \u001b[38;5;66;03m# some Python versions print out the first line of a multi-line function\u001b[39;00m\n\u001b[0;32m    266\u001b[0m \u001b[38;5;66;03m# calls in the traceback and some print out the last line\u001b[39;00m\n\u001b[1;32m--> 267\u001b[0m \u001b[43m_engine_run_backward\u001b[49m\u001b[43m(\u001b[49m\n\u001b[0;32m    268\u001b[0m \u001b[43m    \u001b[49m\u001b[43mtensors\u001b[49m\u001b[43m,\u001b[49m\n\u001b[0;32m    269\u001b[0m \u001b[43m    \u001b[49m\u001b[43mgrad_tensors_\u001b[49m\u001b[43m,\u001b[49m\n\u001b[0;32m    270\u001b[0m \u001b[43m    \u001b[49m\u001b[43mretain_graph\u001b[49m\u001b[43m,\u001b[49m\n\u001b[0;32m    271\u001b[0m \u001b[43m    \u001b[49m\u001b[43mcreate_graph\u001b[49m\u001b[43m,\u001b[49m\n\u001b[0;32m    272\u001b[0m \u001b[43m    \u001b[49m\u001b[43minputs\u001b[49m\u001b[43m,\u001b[49m\n\u001b[0;32m    273\u001b[0m \u001b[43m    \u001b[49m\u001b[43mallow_unreachable\u001b[49m\u001b[38;5;241;43m=\u001b[39;49m\u001b[38;5;28;43;01mTrue\u001b[39;49;00m\u001b[43m,\u001b[49m\n\u001b[0;32m    274\u001b[0m \u001b[43m    \u001b[49m\u001b[43maccumulate_grad\u001b[49m\u001b[38;5;241;43m=\u001b[39;49m\u001b[38;5;28;43;01mTrue\u001b[39;49;00m\u001b[43m,\u001b[49m\n\u001b[0;32m    275\u001b[0m \u001b[43m\u001b[49m\u001b[43m)\u001b[49m\n",
      "File \u001b[1;32mc:\\Users\\abhij\\AppData\\Local\\Programs\\Python\\Python312\\Lib\\site-packages\\torch\\autograd\\graph.py:744\u001b[0m, in \u001b[0;36m_engine_run_backward\u001b[1;34m(t_outputs, *args, **kwargs)\u001b[0m\n\u001b[0;32m    742\u001b[0m     unregister_hooks \u001b[38;5;241m=\u001b[39m _register_logging_hooks_on_whole_graph(t_outputs)\n\u001b[0;32m    743\u001b[0m \u001b[38;5;28;01mtry\u001b[39;00m:\n\u001b[1;32m--> 744\u001b[0m     \u001b[38;5;28;01mreturn\u001b[39;00m \u001b[43mVariable\u001b[49m\u001b[38;5;241;43m.\u001b[39;49m\u001b[43m_execution_engine\u001b[49m\u001b[38;5;241;43m.\u001b[39;49m\u001b[43mrun_backward\u001b[49m\u001b[43m(\u001b[49m\u001b[43m  \u001b[49m\u001b[38;5;66;43;03m# Calls into the C++ engine to run the backward pass\u001b[39;49;00m\n\u001b[0;32m    745\u001b[0m \u001b[43m        \u001b[49m\u001b[43mt_outputs\u001b[49m\u001b[43m,\u001b[49m\u001b[43m \u001b[49m\u001b[38;5;241;43m*\u001b[39;49m\u001b[43margs\u001b[49m\u001b[43m,\u001b[49m\u001b[43m \u001b[49m\u001b[38;5;241;43m*\u001b[39;49m\u001b[38;5;241;43m*\u001b[39;49m\u001b[43mkwargs\u001b[49m\n\u001b[0;32m    746\u001b[0m \u001b[43m    \u001b[49m\u001b[43m)\u001b[49m  \u001b[38;5;66;03m# Calls into the C++ engine to run the backward pass\u001b[39;00m\n\u001b[0;32m    747\u001b[0m \u001b[38;5;28;01mfinally\u001b[39;00m:\n\u001b[0;32m    748\u001b[0m     \u001b[38;5;28;01mif\u001b[39;00m attach_logging_hooks:\n",
      "\u001b[1;31mKeyboardInterrupt\u001b[0m: "
     ]
    }
   ],
   "source": [
    "net_worths = []\n",
    "\n",
    "for e in range(episodes):\n",
    "    state, _ = env.reset()\n",
    "    state = state.flatten()  # Flatten the state to match the input dimensions of the network\n",
    "    done = False\n",
    "    for time in range(MAX_STEPS):\n",
    "        if(time % 100 == 0):\n",
    "            print(f\"Time: {time} episode: {e+1}/{episodes} score: {env.net_worth}\")\n",
    "        action = agent.act(state)\n",
    "        next_state, reward, done, truncated, _ = env.step(action)\n",
    "        next_state = next_state.flatten()  # Flatten the next state\n",
    "        agent.remember(state, action, reward, next_state, done)\n",
    "        state = next_state\n",
    "        if done:\n",
    "            agent.update_target_model()\n",
    "            print(f'Episode {e+1}/{episodes} - Net Worth: {env.net_worth}')\n",
    "            break\n",
    "        agent.replay()\n",
    "    net_worths.append(env.net_worth)\n",
    "    if (e + 1) % 10 == 0:\n",
    "        agent.save(f\"model_ddpg_{e+1}.pth\")\n",
    "    print(f'Episode {e+1}/{episodes} - Net Worth: {env.net_worth}')"
   ]
  },
  {
   "cell_type": "code",
   "execution_count": null,
   "metadata": {},
   "outputs": [
    {
     "ename": "NameError",
     "evalue": "name 'net_worths' is not defined",
     "output_type": "error",
     "traceback": [
      "\u001b[1;31m---------------------------------------------------------------------------\u001b[0m",
      "\u001b[1;31mNameError\u001b[0m                                 Traceback (most recent call last)",
      "Cell \u001b[1;32mIn[7], line 1\u001b[0m\n\u001b[1;32m----> 1\u001b[0m \u001b[38;5;28mprint\u001b[39m(\u001b[43mnet_worths\u001b[49m)\n\u001b[0;32m      2\u001b[0m \u001b[38;5;66;03m# Plotting the net worth over episodes\u001b[39;00m\n\u001b[0;32m      3\u001b[0m plt\u001b[38;5;241m.\u001b[39mplot(\u001b[38;5;28mrange\u001b[39m(episodes), net_worths)\n",
      "\u001b[1;31mNameError\u001b[0m: name 'net_worths' is not defined"
     ]
    }
   ],
   "source": [
    "print(net_worths)\n",
    "# Plotting the net worth over episodes\n",
    "plt.plot(range(episodes), net_worths)\n",
    "plt.xlabel('Episodes')\n",
    "plt.ylabel('Net Worth')\n",
    "plt.title('Net Worth over Episodes')\n",
    "plt.show()\n"
   ]
  },
  {
   "cell_type": "code",
   "execution_count": null,
   "metadata": {},
   "outputs": [
    {
     "name": "stdout",
     "output_type": "stream",
     "text": [
      "Average Reward over 10 episodes: 2560175.0\n"
     ]
    }
   ],
   "source": [
    "# Evaluation\n",
    "def evaluate(env, agent, episodes=10):\n",
    "    total_rewards = 0\n",
    "    for _ in range(episodes):\n",
    "        state, _ = env.reset()\n",
    "        state = state.flatten()\n",
    "        for time in range(MAX_STEPS):\n",
    "            action = agent.act(state,explore = False)\n",
    "            next_state, reward, done, truncated, _ = env.step(action)\n",
    "            next_state = next_state.flatten()\n",
    "            total_rewards += reward\n",
    "            state = next_state\n",
    "    avg_reward = total_rewards / episodes\n",
    "    print(f\"Average Reward over {episodes} episodes: {avg_reward}\")\n",
    "\n",
    "# Load the trained model\n",
    "agent.load(\"model_ddpg_50.pth\")\n",
    "\n",
    "# Evaluate the agent\n",
    "evaluate(env, agent)"
   ]
  }
 ],
 "metadata": {
  "kernelspec": {
   "display_name": "Python 3",
   "language": "python",
   "name": "python3"
  },
  "language_info": {
   "codemirror_mode": {
    "name": "ipython",
    "version": 3
   },
   "file_extension": ".py",
   "mimetype": "text/x-python",
   "name": "python",
   "nbconvert_exporter": "python",
   "pygments_lexer": "ipython3",
   "version": "3.12.1"
  }
 },
 "nbformat": 4,
 "nbformat_minor": 2
}
